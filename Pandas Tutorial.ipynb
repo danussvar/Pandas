{
 "cells": [
  {
   "cell_type": "code",
   "execution_count": null,
   "metadata": {},
   "outputs": [],
   "source": [
    "Introduction\n",
    "Pandas deals with the following three data structures −\n",
    ">> Series 1 Dimensional\n",
    ">> DataFrame 2 Dimensional"
   ]
  },
  {
   "cell_type": "code",
   "execution_count": null,
   "metadata": {},
   "outputs": [],
   "source": [
    "# pandas.Series\n",
    "pandas.Series( data, index, dtype, copy)\n",
    "A series can be created using various inputs like −\n",
    "Array\n",
    "Dict\n",
    "Scalar value or constant"
   ]
  },
  {
   "cell_type": "code",
   "execution_count": 4,
   "metadata": {},
   "outputs": [
    {
     "name": "stdout",
     "output_type": "stream",
     "text": [
      "Series([], dtype: float64)\n"
     ]
    },
    {
     "name": "stderr",
     "output_type": "stream",
     "text": [
      "C:\\Users\\DanussvaR\\Anaconda3\\lib\\site-packages\\ipykernel_launcher.py:3: DeprecationWarning: The default dtype for empty Series will be 'object' instead of 'float64' in a future version. Specify a dtype explicitly to silence this warning.\n",
      "  This is separate from the ipykernel package so we can avoid doing imports until\n"
     ]
    }
   ],
   "source": [
    "# Creating Empty Series\n",
    "import pandas as pd\n",
    "a=pd.Series()\n",
    "print(a)"
   ]
  },
  {
   "cell_type": "code",
   "execution_count": 5,
   "metadata": {},
   "outputs": [
    {
     "name": "stdout",
     "output_type": "stream",
     "text": [
      "0     1\n",
      "1     2\n",
      "2     3\n",
      "3     4\n",
      "4     5\n",
      "5     6\n",
      "6     7\n",
      "7     8\n",
      "8     9\n",
      "9    10\n",
      "dtype: int32\n"
     ]
    }
   ],
   "source": [
    "# Creating a series from ndarray\n",
    "import pandas as pd\n",
    "import numpy as np\n",
    "x=np.arange(1,11)\n",
    "a=pd.Series(x)\n",
    "print(a)"
   ]
  },
  {
   "cell_type": "code",
   "execution_count": 6,
   "metadata": {},
   "outputs": [
    {
     "name": "stdout",
     "output_type": "stream",
     "text": [
      "0    a\n",
      "1    b\n",
      "2    c\n",
      "3    d\n",
      "4    e\n",
      "dtype: object\n"
     ]
    }
   ],
   "source": [
    "import pandas as pd\n",
    "import numpy as np\n",
    "x=np.array(['a','b','c','d','e'])\n",
    "a=pd.Series(x)\n",
    "print(a)"
   ]
  },
  {
   "cell_type": "code",
   "execution_count": 7,
   "metadata": {},
   "outputs": [
    {
     "name": "stdout",
     "output_type": "stream",
     "text": [
      "101    a\n",
      "102    b\n",
      "103    c\n",
      "104    d\n",
      "105    e\n",
      "dtype: object\n"
     ]
    }
   ],
   "source": [
    "# Indexing the array\n",
    "import pandas as pd\n",
    "import numpy as np\n",
    "x=np.array(['a','b','c','d','e'])\n",
    "a=pd.Series(x, index=[101,102,103,104,105])\n",
    "print(a)"
   ]
  },
  {
   "cell_type": "code",
   "execution_count": 9,
   "metadata": {},
   "outputs": [
    {
     "name": "stdout",
     "output_type": "stream",
     "text": [
      "a    0\n",
      "b    1\n",
      "c    3\n",
      "d    4\n",
      "e    5\n",
      "dtype: int64\n"
     ]
    }
   ],
   "source": [
    "# If index not specified, then the dictionary keys are taken in a sorted order to construct index.\n",
    "import pandas as pd\n",
    "import numpy as np\n",
    "x={'a' : 0,'b' : 1,'c' : 3,'d' : 4,'e' : 5}\n",
    "a=pd.Series(x)\n",
    "print(a)"
   ]
  },
  {
   "cell_type": "code",
   "execution_count": 11,
   "metadata": {},
   "outputs": [
    {
     "name": "stdout",
     "output_type": "stream",
     "text": [
      "b    1\n",
      "a    0\n",
      "e    5\n",
      "c    3\n",
      "d    4\n",
      "dtype: int64\n"
     ]
    }
   ],
   "source": [
    "# If index is passed, the values in data corresponding to the labels in the index will be pulled out.\n",
    "import pandas as pd\n",
    "import numpy as np\n",
    "x={'a' : 0,'b' : 1,'c' : 3,'d' : 4,'e' : 5} # Indexing\n",
    "a=pd.Series(x, index=['b','a','e','c','d']) # Sorted in this order\n",
    "print(a)"
   ]
  },
  {
   "cell_type": "code",
   "execution_count": 13,
   "metadata": {},
   "outputs": [
    {
     "name": "stdout",
     "output_type": "stream",
     "text": [
      "b    1.0\n",
      "a    0.0\n",
      "e    5.0\n",
      "c    NaN\n",
      "d    4.0\n",
      "dtype: float64\n"
     ]
    }
   ],
   "source": [
    "# Above program with missing value\n",
    "import pandas as pd\n",
    "import numpy as np\n",
    "x={'a' : 0,'b' : 1,'d' : 4,'e' : 5} # Indexing\n",
    "a=pd.Series(x, index=['b','a','e','c','d']) # Sorted in this order\n",
    "print(a)"
   ]
  },
  {
   "cell_type": "code",
   "execution_count": 15,
   "metadata": {},
   "outputs": [
    {
     "name": "stdout",
     "output_type": "stream",
     "text": [
      "1    44\n",
      "2    44\n",
      "3    44\n",
      "4    44\n",
      "5    44\n",
      "6    44\n",
      "dtype: int64\n"
     ]
    }
   ],
   "source": [
    "# Create a Series from Scalar\n",
    "# If data is a scalar value, an index must be provided. The value will be repeated to match the length of index\n",
    "import pandas as pd\n",
    "import numpy as np\n",
    "a=pd.Series(44, index=[1,2,3,4,5,6])\n",
    "print(a)"
   ]
  },
  {
   "cell_type": "code",
   "execution_count": 16,
   "metadata": {},
   "outputs": [
    {
     "name": "stdout",
     "output_type": "stream",
     "text": [
      "c\n"
     ]
    }
   ],
   "source": [
    "# Accessing Data from Series with Position\n",
    "import pandas as pd\n",
    "import numpy as np\n",
    "x=np.array(['a','b','c','d','e'])\n",
    "a=pd.Series(x, index=[101,102,103,104,105])\n",
    "print(a[103])"
   ]
  },
  {
   "cell_type": "code",
   "execution_count": 17,
   "metadata": {},
   "outputs": [
    {
     "name": "stdout",
     "output_type": "stream",
     "text": [
      "101    a\n",
      "102    b\n",
      "103    c\n",
      "dtype: object\n"
     ]
    }
   ],
   "source": [
    "# Retrieving First 3 elements using ':' symbol\n",
    "import pandas as pd\n",
    "import numpy as np\n",
    "x=np.array(['a','b','c','d','e'])\n",
    "a=pd.Series(x, index=[101,102,103,104,105])\n",
    "print(a[:3])"
   ]
  },
  {
   "cell_type": "code",
   "execution_count": 18,
   "metadata": {},
   "outputs": [
    {
     "name": "stdout",
     "output_type": "stream",
     "text": [
      "103    c\n",
      "104    d\n",
      "105    e\n",
      "dtype: object\n"
     ]
    }
   ],
   "source": [
    "# Retrieving Last 3 elements using ':' symbol\n",
    "import pandas as pd\n",
    "import numpy as np\n",
    "x=np.array(['a','b','c','d','e'])\n",
    "a=pd.Series(x, index=[101,102,103,104,105])\n",
    "print(a[-3:])"
   ]
  },
  {
   "cell_type": "code",
   "execution_count": 19,
   "metadata": {},
   "outputs": [
    {
     "name": "stdout",
     "output_type": "stream",
     "text": [
      "a\n"
     ]
    }
   ],
   "source": [
    "# Retrieve Data Using Label (Index)\n",
    "import pandas as pd\n",
    "import numpy as np\n",
    "x=np.array(['a','b','c','d','e'])\n",
    "a=pd.Series(x, index=[101,102,103,104,105])\n",
    "print(a[101])"
   ]
  },
  {
   "cell_type": "code",
   "execution_count": 20,
   "metadata": {},
   "outputs": [
    {
     "name": "stdout",
     "output_type": "stream",
     "text": [
      "101    a\n",
      "102    b\n",
      "105    e\n",
      "dtype: object\n"
     ]
    }
   ],
   "source": [
    "# Retrieve Multiple Data Using Label (Index)\n",
    "import pandas as pd\n",
    "import numpy as np\n",
    "x=np.array(['a','b','c','d','e'])\n",
    "a=pd.Series(x, index=[101,102,103,104,105])\n",
    "print(a[[101,102,105]])"
   ]
  },
  {
   "cell_type": "code",
   "execution_count": 21,
   "metadata": {},
   "outputs": [
    {
     "name": "stdout",
     "output_type": "stream",
     "text": [
      "a    101\n",
      "c    103\n",
      "e    105\n",
      "dtype: int32\n"
     ]
    }
   ],
   "source": [
    "# Retrieve Multiple Data Using Label (Index) - Another Example\n",
    "import pandas as pd\n",
    "import numpy as np\n",
    "x=np.array([101,102,103,104,105])\n",
    "a=pd.Series(x, index=['a','b','c','d','e'])\n",
    "print(a[['a','c','e']])"
   ]
  },
  {
   "cell_type": "code",
   "execution_count": null,
   "metadata": {},
   "outputs": [],
   "source": [
    "A pandas DataFrame can be created using the following constructor −\n",
    "pandas.DataFrame( data, index, columns, dtype, copy)\n",
    "Create DataFrame\n",
    "A pandas DataFrame can be created using various inputs like −\n",
    "Lists\n",
    "dict\n",
    "Series\n",
    "Numpy ndarrays\n",
    "Another DataFrame"
   ]
  },
  {
   "cell_type": "code",
   "execution_count": 22,
   "metadata": {},
   "outputs": [
    {
     "name": "stdout",
     "output_type": "stream",
     "text": [
      "Empty DataFrame\n",
      "Columns: []\n",
      "Index: []\n"
     ]
    }
   ],
   "source": [
    "# Creating an Empty DataFrame\n",
    "import pandas as pd\n",
    "a = pd.DataFrame()\n",
    "print (a)"
   ]
  },
  {
   "cell_type": "code",
   "execution_count": 23,
   "metadata": {},
   "outputs": [
    {
     "name": "stdout",
     "output_type": "stream",
     "text": [
      "   0\n",
      "0  3\n",
      "1  4\n",
      "2  5\n",
      "3  6\n"
     ]
    }
   ],
   "source": [
    "# Create a DataFrame from Lists\n",
    "import pandas as pd\n",
    "import numpy as np\n",
    "x=np.arange(3,7)\n",
    "a = pd.DataFrame(x)\n",
    "print (a)"
   ]
  },
  {
   "cell_type": "code",
   "execution_count": 24,
   "metadata": {},
   "outputs": [
    {
     "name": "stdout",
     "output_type": "stream",
     "text": [
      "    Name  Age\n",
      "0    Tom   32\n",
      "1  Jerry   45\n",
      "2    Bob   44\n"
     ]
    }
   ],
   "source": [
    "# Create a DataFrame from Lists - Another Example\n",
    "import pandas as pd\n",
    "import numpy as np\n",
    "x=[['Tom',32],['Jerry', 45], ['Bob',44]]\n",
    "a = pd.DataFrame(x, columns=['Name','Age'])\n",
    "print (a)"
   ]
  },
  {
   "cell_type": "code",
   "execution_count": 25,
   "metadata": {},
   "outputs": [
    {
     "name": "stdout",
     "output_type": "stream",
     "text": [
      "     Name  Age\n",
      "0     Tom   24\n",
      "1   Jerry   36\n",
      "2     Bob   39\n",
      "3  Rhodes   22\n"
     ]
    }
   ],
   "source": [
    "# Create a DataFrame from Dict of ndarrays / Lists\n",
    "import pandas as pd\n",
    "x = {'Name':['Tom', 'Jerry', 'Bob', 'Rhodes'],'Age':[24,36,39,22]}\n",
    "a = pd.DataFrame(x)\n",
    "print (a)"
   ]
  },
  {
   "cell_type": "code",
   "execution_count": 26,
   "metadata": {},
   "outputs": [
    {
     "name": "stdout",
     "output_type": "stream",
     "text": [
      "          Name  Age\n",
      "Rank 1     Tom   24\n",
      "Rank 2   Jerry   36\n",
      "Rank 3     Bob   39\n",
      "Rank 4  Rhodes   22\n"
     ]
    }
   ],
   "source": [
    "# create an indexed DataFrame using arrays.\n",
    "import pandas as pd\n",
    "x = {'Name':['Tom', 'Jerry', 'Bob', 'Rhodes'],'Age':[24,36,39,22]}\n",
    "a = pd.DataFrame(x, index=['Rank 1', 'Rank 2', 'Rank 3', 'Rank 4'])\n",
    "print (a)"
   ]
  },
  {
   "cell_type": "code",
   "execution_count": 28,
   "metadata": {},
   "outputs": [
    {
     "name": "stdout",
     "output_type": "stream",
     "text": [
      "   Name  Age  Average Mark\n",
      "0   Bob   17           NaN\n",
      "1  John   16          88.0\n"
     ]
    }
   ],
   "source": [
    "# Create a DataFrame from List of Dicts\n",
    "import pandas as pd\n",
    "x = [{'Name': 'Bob', 'Age': 17},{'Name': 'John', 'Age': 16, 'Average Mark': 88}]\n",
    "a = pd.DataFrame(x)\n",
    "print (a)"
   ]
  },
  {
   "cell_type": "code",
   "execution_count": 29,
   "metadata": {},
   "outputs": [
    {
     "name": "stdout",
     "output_type": "stream",
     "text": [
      "    Name  Age  Average Mark\n",
      "X1   Bob   17           NaN\n",
      "X2  John   16          88.0\n"
     ]
    }
   ],
   "source": [
    "# Create a DataFrame from List of Dicts\n",
    "import pandas as pd\n",
    "x = [{'Name': 'Bob', 'Age': 17},{'Name': 'John', 'Age': 16, 'Average Mark': 88\n",
    "}]\n",
    "a = pd.DataFrame(x, index=['X1','X2'])\n",
    "print (a)"
   ]
  },
  {
   "cell_type": "code",
   "execution_count": 30,
   "metadata": {},
   "outputs": [
    {
     "name": "stdout",
     "output_type": "stream",
     "text": [
      "   one  two\n",
      "a  1.0    1\n",
      "b  2.0    2\n",
      "c  3.0    3\n",
      "d  NaN    4\n"
     ]
    }
   ],
   "source": [
    "# Create a DataFrame from Dict of Series\n",
    "import pandas as pd\n",
    "a = {'one' : pd.Series([1, 2, 3], index=['a', 'b', 'c']),\n",
    "'two' : pd.Series([1, 2, 3, 4], index=['a', 'b', 'c', 'd'])}\n",
    "x = pd.DataFrame(a)\n",
    "print (x)"
   ]
  },
  {
   "cell_type": "code",
   "execution_count": 31,
   "metadata": {},
   "outputs": [
    {
     "name": "stdout",
     "output_type": "stream",
     "text": [
      "a    1.0\n",
      "b    2.0\n",
      "c    3.0\n",
      "d    NaN\n",
      "Name: one, dtype: float64\n"
     ]
    }
   ],
   "source": [
    "# Column Selection\n",
    "import pandas as pd\n",
    "a = {'one' : pd.Series([1, 2, 3], index=['a', 'b', 'c']),\n",
    "'two' : pd.Series([1, 2, 3, 4], index=['a', 'b', 'c', 'd'])}\n",
    "\n",
    "x = pd.DataFrame(a)\n",
    "print (x['one'])"
   ]
  },
  {
   "cell_type": "code",
   "execution_count": 34,
   "metadata": {},
   "outputs": [
    {
     "name": "stdout",
     "output_type": "stream",
     "text": [
      "   one  two\n",
      "a  1.0    1\n",
      "b  2.0    2\n",
      "c  3.0    3\n",
      "d  NaN    4\n",
      "   one  two  three\n",
      "a  1.0    1      3\n",
      "b  2.0    2      4\n",
      "c  3.0    3      5\n",
      "d  NaN    4      6\n"
     ]
    }
   ],
   "source": [
    "# Adding a Column\n",
    "import pandas as pd\n",
    "a = {'one' : pd.Series([1, 2, 3], index=['a', 'b', 'c']),\n",
    "'two' : pd.Series([1, 2, 3, 4], index=['a', 'b', 'c', 'd'])}\n",
    "\n",
    "x = pd.DataFrame(a)\n",
    "print(x)\n",
    "\n",
    "x['three']=pd.Series([3,4,5,6], index=['a','b','c','d'])\n",
    "print (x)"
   ]
  },
  {
   "cell_type": "code",
   "execution_count": 35,
   "metadata": {},
   "outputs": [
    {
     "name": "stdout",
     "output_type": "stream",
     "text": [
      "   one  two\n",
      "a  1.0    1\n",
      "b  2.0    2\n",
      "c  3.0    3\n",
      "d  NaN    4\n",
      "   one  two  three\n",
      "a  1.0    1    2.0\n",
      "b  2.0    2    4.0\n",
      "c  3.0    3    6.0\n",
      "d  NaN    4    NaN\n"
     ]
    }
   ],
   "source": [
    "# Creating a new column with existing coulmns\n",
    "import pandas as pd\n",
    "a = {'one' : pd.Series([1, 2, 3], index=['a', 'b', 'c']),\n",
    "'two' : pd.Series([1, 2, 3, 4], index=['a', 'b', 'c', 'd'])}\n",
    "\n",
    "x = pd.DataFrame(a)\n",
    "print(x)\n",
    "\n",
    "x['three']=x['one']+x['two']\n",
    "print (x)"
   ]
  },
  {
   "cell_type": "code",
   "execution_count": 49,
   "metadata": {},
   "outputs": [
    {
     "name": "stdout",
     "output_type": "stream",
     "text": [
      "   one  two  three\n",
      "a  1.0    1      2\n",
      "b  2.0    2      3\n",
      "c  3.0    3      1\n",
      "d  NaN    4      4\n",
      "\n",
      " After Deletion: \n",
      "\n",
      "   one  three\n",
      "a  1.0      2\n",
      "b  2.0      3\n",
      "c  3.0      1\n",
      "d  NaN      4\n"
     ]
    }
   ],
   "source": [
    "# Column Deletion using 'Del' Command\n",
    "import pandas as pd\n",
    "a = {'one' : pd.Series([1, 2, 3], index=['a', 'b', 'c']),\n",
    "'two' : pd.Series([1, 2, 3, 4], index=['a', 'b', 'c', 'd']),\n",
    "'three' : pd.Series([2, 3, 1, 4], index=['a', 'b', 'c', 'd'])}\n",
    "x = pd.DataFrame(a)\n",
    "print (x)\n",
    "print(\"\\n After Deletion: \\n\")    #'\\n' is for new line\n",
    "del x['two']\n",
    "print(x)"
   ]
  },
  {
   "cell_type": "code",
   "execution_count": 38,
   "metadata": {},
   "outputs": [
    {
     "name": "stdout",
     "output_type": "stream",
     "text": [
      "   one  two  three\n",
      "a  1.0    1      2\n",
      "b  2.0    2      3\n",
      "c  3.0    3      1\n",
      "d  NaN    4      4\n",
      "\n",
      " After Deletion: \n",
      "\n",
      "   one  three\n",
      "a  1.0      2\n",
      "b  2.0      3\n",
      "c  3.0      1\n",
      "d  NaN      4\n"
     ]
    }
   ],
   "source": [
    "# Column Deletion using 'pop' Command\n",
    "import pandas as pd\n",
    "a = {'one' : pd.Series([1, 2, 3], index=['a', 'b', 'c']),\n",
    "'two' : pd.Series([1, 2, 3, 4], index=['a', 'b', 'c', 'd']),\n",
    "'three' : pd.Series([2, 3, 1, 4], index=['a', 'b', 'c', 'd'])}\n",
    "x = pd.DataFrame(a)\n",
    "print (x)\n",
    "print(\"\\n After Deletion: \\n\")\n",
    "x.pop('two')\n",
    "print(x)"
   ]
  },
  {
   "cell_type": "code",
   "execution_count": 42,
   "metadata": {},
   "outputs": [
    {
     "name": "stdout",
     "output_type": "stream",
     "text": [
      "   one  two\n",
      "a  1.0    1\n",
      "b  4.0    1\n",
      "c  3.0    3\n",
      "d  NaN    4 \n",
      "\n",
      "one    4.0\n",
      "two    1.0\n",
      "Name: b, dtype: float64\n"
     ]
    }
   ],
   "source": [
    "# Row Selection by label\n",
    "import pandas as pd\n",
    "a = {'one' : pd.Series([1, 4, 3], index=['a', 'b', 'c']),\n",
    "'two' : pd.Series([1, 1, 3, 4], index=['a', 'b', 'c', 'd'])}\n",
    "x = pd.DataFrame(a)\n",
    "print(x,'\\n')\n",
    "print (x.loc['b'])"
   ]
  },
  {
   "cell_type": "code",
   "execution_count": 43,
   "metadata": {},
   "outputs": [
    {
     "name": "stdout",
     "output_type": "stream",
     "text": [
      "   one  two\n",
      "a  1.0    1\n",
      "b  2.0    2\n",
      "c  3.0    3\n",
      "d  NaN    4 \n",
      "\n",
      "one    3.0\n",
      "two    3.0\n",
      "Name: c, dtype: float64\n"
     ]
    }
   ],
   "source": [
    "# Row Selection by integer location\n",
    "import pandas as pd\n",
    "a = {'one' : pd.Series([1, 2, 3], index=['a', 'b', 'c']),\n",
    "'two' : pd.Series([1, 2, 3, 4], index=['a', 'b', 'c', 'd'])}\n",
    "x = pd.DataFrame(a)\n",
    "print(x,'\\n')\n",
    "print (x.iloc[2])"
   ]
  },
  {
   "cell_type": "code",
   "execution_count": 48,
   "metadata": {},
   "outputs": [
    {
     "name": "stdout",
     "output_type": "stream",
     "text": [
      "   a  b\n",
      "0  1  2\n",
      "1  3  4 \n",
      "\n",
      "   a  b\n",
      "0  1  2\n",
      "1  3  4\n",
      "0  5  6\n",
      "1  7  8\n"
     ]
    }
   ],
   "source": [
    "# Adding New Rows - Add new rows to a DataFrame using the append function\n",
    "import pandas as pd\n",
    "a1 = pd.DataFrame([[1, 2], [3, 4]], columns = ['a','b'])\n",
    "a2 = pd.DataFrame([[5, 6], [7, 8]], columns = ['a','b'])\n",
    "print(a1,'\\n')\n",
    "\n",
    "a1 = a1.append(a2)\n",
    "print (a1)"
   ]
  },
  {
   "cell_type": "code",
   "execution_count": 51,
   "metadata": {},
   "outputs": [
    {
     "name": "stdout",
     "output_type": "stream",
     "text": [
      "     Name  Age\n",
      "1     Tom   24\n",
      "2   Jerry   36\n",
      "3     Bob   39\n",
      "4  Rhodes   22\n",
      "\n",
      " After Deleting: \n",
      "     Name  Age\n",
      "1     Tom   24\n",
      "3     Bob   39\n",
      "4  Rhodes   22\n"
     ]
    }
   ],
   "source": [
    "# Deleting a row using drop command\n",
    "import pandas as pd\n",
    "x = {'Name':['Tom', 'Jerry', 'Bob', 'Rhodes'],'Age':[24,36,39,22]}\n",
    "a = pd.DataFrame(x, index=[1,2,3,4])\n",
    "print (a)\n",
    "\n",
    "print(\"\\n After Deleting: \")\n",
    "\n",
    "x=a.drop(2)\n",
    "print(x)"
   ]
  },
  {
   "cell_type": "code",
   "execution_count": null,
   "metadata": {},
   "outputs": [],
   "source": []
  }
 ],
 "metadata": {
  "kernelspec": {
   "display_name": "Python 3",
   "language": "python",
   "name": "python3"
  },
  "language_info": {
   "codemirror_mode": {
    "name": "ipython",
    "version": 3
   },
   "file_extension": ".py",
   "mimetype": "text/x-python",
   "name": "python",
   "nbconvert_exporter": "python",
   "pygments_lexer": "ipython3",
   "version": "3.7.4"
  }
 },
 "nbformat": 4,
 "nbformat_minor": 4
}
